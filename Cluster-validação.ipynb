{
 "cells": [
  {
   "cell_type": "code",
   "execution_count": 244,
   "id": "1bdf157f",
   "metadata": {},
   "outputs": [],
   "source": [
    "import pandas as pd\n",
    "import numpy as np\n",
    "import matplotlib.pyplot as plt\n",
    "from matplotlib import pylab\n",
    "import pylab as pl\n",
    "from sklearn.cluster import KMeans\n",
    "from sklearn.cluster import DBSCAN\n",
    "from sklearn.decomposition import PCA\n",
    "from sklearn.metrics import silhouette_score\n",
    "import scipy\n",
    "import scipy.spatial\n",
    "import seaborn as sns\n",
    "sns.set_theme(style=\"white\", palette=\"pastel\")\n",
    "import warnings\n",
    "from sklearn.datasets import make_blobs\n",
    "from itertools import cycle\n",
    "warnings.filterwarnings('ignore')\n",
    "%matplotlib inline"
   ]
  },
  {
   "cell_type": "code",
   "execution_count": 245,
   "id": "65f668b2",
   "metadata": {},
   "outputs": [],
   "source": [
    "df = pd.read_csv(\"Dataset3.csv\", sep=';')"
   ]
  },
  {
   "cell_type": "code",
   "execution_count": 246,
   "id": "d8d38f7f",
   "metadata": {},
   "outputs": [
    {
     "data": {
      "text/html": [
       "<div>\n",
       "<style scoped>\n",
       "    .dataframe tbody tr th:only-of-type {\n",
       "        vertical-align: middle;\n",
       "    }\n",
       "\n",
       "    .dataframe tbody tr th {\n",
       "        vertical-align: top;\n",
       "    }\n",
       "\n",
       "    .dataframe thead th {\n",
       "        text-align: right;\n",
       "    }\n",
       "</style>\n",
       "<table border=\"1\" class=\"dataframe\">\n",
       "  <thead>\n",
       "    <tr style=\"text-align: right;\">\n",
       "      <th></th>\n",
       "      <th>No</th>\n",
       "      <th>Country</th>\n",
       "      <th>Level of development</th>\n",
       "      <th>European Union Membership</th>\n",
       "      <th>Currency</th>\n",
       "      <th>Women Entrepreneurship Index</th>\n",
       "      <th>Entrepreneurship Index</th>\n",
       "      <th>Inflation rate</th>\n",
       "      <th>Female Labor Force Participation Rate</th>\n",
       "    </tr>\n",
       "  </thead>\n",
       "  <tbody>\n",
       "    <tr>\n",
       "      <th>0</th>\n",
       "      <td>4</td>\n",
       "      <td>Austria</td>\n",
       "      <td>Developed</td>\n",
       "      <td>Member</td>\n",
       "      <td>Euro</td>\n",
       "      <td>54.9</td>\n",
       "      <td>64.9</td>\n",
       "      <td>0.90</td>\n",
       "      <td>67.1</td>\n",
       "    </tr>\n",
       "    <tr>\n",
       "      <th>1</th>\n",
       "      <td>6</td>\n",
       "      <td>Belgium</td>\n",
       "      <td>Developed</td>\n",
       "      <td>Member</td>\n",
       "      <td>Euro</td>\n",
       "      <td>63.6</td>\n",
       "      <td>65.5</td>\n",
       "      <td>0.60</td>\n",
       "      <td>58.0</td>\n",
       "    </tr>\n",
       "    <tr>\n",
       "      <th>2</th>\n",
       "      <td>17</td>\n",
       "      <td>Estonia</td>\n",
       "      <td>Developed</td>\n",
       "      <td>Member</td>\n",
       "      <td>Euro</td>\n",
       "      <td>55.4</td>\n",
       "      <td>60.2</td>\n",
       "      <td>-0.88</td>\n",
       "      <td>68.5</td>\n",
       "    </tr>\n",
       "    <tr>\n",
       "      <th>3</th>\n",
       "      <td>18</td>\n",
       "      <td>Finland</td>\n",
       "      <td>Developed</td>\n",
       "      <td>Member</td>\n",
       "      <td>Euro</td>\n",
       "      <td>66.4</td>\n",
       "      <td>65.7</td>\n",
       "      <td>-0.20</td>\n",
       "      <td>67.7</td>\n",
       "    </tr>\n",
       "    <tr>\n",
       "      <th>4</th>\n",
       "      <td>19</td>\n",
       "      <td>France</td>\n",
       "      <td>Developed</td>\n",
       "      <td>Member</td>\n",
       "      <td>Euro</td>\n",
       "      <td>68.8</td>\n",
       "      <td>67.3</td>\n",
       "      <td>0.00</td>\n",
       "      <td>60.6</td>\n",
       "    </tr>\n",
       "  </tbody>\n",
       "</table>\n",
       "</div>"
      ],
      "text/plain": [
       "   No  Country Level of development European Union Membership Currency  \\\n",
       "0   4  Austria            Developed                    Member     Euro   \n",
       "1   6  Belgium            Developed                    Member     Euro   \n",
       "2  17  Estonia            Developed                    Member     Euro   \n",
       "3  18  Finland            Developed                    Member     Euro   \n",
       "4  19   France            Developed                    Member     Euro   \n",
       "\n",
       "   Women Entrepreneurship Index  Entrepreneurship Index  Inflation rate  \\\n",
       "0                          54.9                    64.9            0.90   \n",
       "1                          63.6                    65.5            0.60   \n",
       "2                          55.4                    60.2           -0.88   \n",
       "3                          66.4                    65.7           -0.20   \n",
       "4                          68.8                    67.3            0.00   \n",
       "\n",
       "   Female Labor Force Participation Rate  \n",
       "0                                   67.1  \n",
       "1                                   58.0  \n",
       "2                                   68.5  \n",
       "3                                   67.7  \n",
       "4                                   60.6  "
      ]
     },
     "execution_count": 246,
     "metadata": {},
     "output_type": "execute_result"
    }
   ],
   "source": [
    "df.head()"
   ]
  },
  {
   "cell_type": "code",
   "execution_count": 247,
   "id": "15c15612",
   "metadata": {},
   "outputs": [
    {
     "data": {
      "text/plain": [
       "(51, 9)"
      ]
     },
     "execution_count": 247,
     "metadata": {},
     "output_type": "execute_result"
    }
   ],
   "source": [
    "df.shape"
   ]
  },
  {
   "cell_type": "code",
   "execution_count": 248,
   "id": "3e340ed2",
   "metadata": {},
   "outputs": [
    {
     "name": "stdout",
     "output_type": "stream",
     "text": [
      "<class 'pandas.core.frame.DataFrame'>\n",
      "RangeIndex: 51 entries, 0 to 50\n",
      "Data columns (total 9 columns):\n",
      " #   Column                                 Non-Null Count  Dtype  \n",
      "---  ------                                 --------------  -----  \n",
      " 0   No                                     51 non-null     int64  \n",
      " 1   Country                                51 non-null     object \n",
      " 2   Level of development                   51 non-null     object \n",
      " 3   European Union Membership              51 non-null     object \n",
      " 4   Currency                               51 non-null     object \n",
      " 5   Women Entrepreneurship Index           51 non-null     float64\n",
      " 6   Entrepreneurship Index                 51 non-null     float64\n",
      " 7   Inflation rate                         51 non-null     float64\n",
      " 8   Female Labor Force Participation Rate  51 non-null     float64\n",
      "dtypes: float64(4), int64(1), object(4)\n",
      "memory usage: 3.7+ KB\n"
     ]
    }
   ],
   "source": [
    "df.info()"
   ]
  },
  {
   "cell_type": "code",
   "execution_count": 249,
   "id": "8a388df2",
   "metadata": {},
   "outputs": [
    {
     "data": {
      "text/html": [
       "<div>\n",
       "<style scoped>\n",
       "    .dataframe tbody tr th:only-of-type {\n",
       "        vertical-align: middle;\n",
       "    }\n",
       "\n",
       "    .dataframe tbody tr th {\n",
       "        vertical-align: top;\n",
       "    }\n",
       "\n",
       "    .dataframe thead th {\n",
       "        text-align: right;\n",
       "    }\n",
       "</style>\n",
       "<table border=\"1\" class=\"dataframe\">\n",
       "  <thead>\n",
       "    <tr style=\"text-align: right;\">\n",
       "      <th></th>\n",
       "      <th>No</th>\n",
       "      <th>Country</th>\n",
       "      <th>Level of development</th>\n",
       "      <th>European Union Membership</th>\n",
       "      <th>Currency</th>\n",
       "      <th>Women Entrepreneurship Index</th>\n",
       "      <th>Entrepreneurship Index</th>\n",
       "      <th>Inflation rate</th>\n",
       "      <th>Female Labor Force Participation Rate</th>\n",
       "    </tr>\n",
       "  </thead>\n",
       "  <tbody>\n",
       "    <tr>\n",
       "      <th>0</th>\n",
       "      <td>4</td>\n",
       "      <td>Austria</td>\n",
       "      <td>0</td>\n",
       "      <td>0</td>\n",
       "      <td>0</td>\n",
       "      <td>54.9</td>\n",
       "      <td>64.9</td>\n",
       "      <td>0.90</td>\n",
       "      <td>67.1</td>\n",
       "    </tr>\n",
       "    <tr>\n",
       "      <th>1</th>\n",
       "      <td>6</td>\n",
       "      <td>Belgium</td>\n",
       "      <td>0</td>\n",
       "      <td>0</td>\n",
       "      <td>0</td>\n",
       "      <td>63.6</td>\n",
       "      <td>65.5</td>\n",
       "      <td>0.60</td>\n",
       "      <td>58.0</td>\n",
       "    </tr>\n",
       "    <tr>\n",
       "      <th>2</th>\n",
       "      <td>17</td>\n",
       "      <td>Estonia</td>\n",
       "      <td>0</td>\n",
       "      <td>0</td>\n",
       "      <td>0</td>\n",
       "      <td>55.4</td>\n",
       "      <td>60.2</td>\n",
       "      <td>-0.88</td>\n",
       "      <td>68.5</td>\n",
       "    </tr>\n",
       "    <tr>\n",
       "      <th>3</th>\n",
       "      <td>18</td>\n",
       "      <td>Finland</td>\n",
       "      <td>0</td>\n",
       "      <td>0</td>\n",
       "      <td>0</td>\n",
       "      <td>66.4</td>\n",
       "      <td>65.7</td>\n",
       "      <td>-0.20</td>\n",
       "      <td>67.7</td>\n",
       "    </tr>\n",
       "    <tr>\n",
       "      <th>4</th>\n",
       "      <td>19</td>\n",
       "      <td>France</td>\n",
       "      <td>0</td>\n",
       "      <td>0</td>\n",
       "      <td>0</td>\n",
       "      <td>68.8</td>\n",
       "      <td>67.3</td>\n",
       "      <td>0.00</td>\n",
       "      <td>60.6</td>\n",
       "    </tr>\n",
       "  </tbody>\n",
       "</table>\n",
       "</div>"
      ],
      "text/plain": [
       "   No  Country  Level of development  European Union Membership  Currency  \\\n",
       "0   4  Austria                     0                          0         0   \n",
       "1   6  Belgium                     0                          0         0   \n",
       "2  17  Estonia                     0                          0         0   \n",
       "3  18  Finland                     0                          0         0   \n",
       "4  19   France                     0                          0         0   \n",
       "\n",
       "   Women Entrepreneurship Index  Entrepreneurship Index  Inflation rate  \\\n",
       "0                          54.9                    64.9            0.90   \n",
       "1                          63.6                    65.5            0.60   \n",
       "2                          55.4                    60.2           -0.88   \n",
       "3                          66.4                    65.7           -0.20   \n",
       "4                          68.8                    67.3            0.00   \n",
       "\n",
       "   Female Labor Force Participation Rate  \n",
       "0                                   67.1  \n",
       "1                                   58.0  \n",
       "2                                   68.5  \n",
       "3                                   67.7  \n",
       "4                                   60.6  "
      ]
     },
     "execution_count": 249,
     "metadata": {},
     "output_type": "execute_result"
    }
   ],
   "source": [
    "df[\"Level of development\"]=pd.get_dummies(df[\"Level of development\"], drop_first=True)\n",
    "df[\"European Union Membership\"]=pd.get_dummies(df[\"European Union Membership\"], drop_first=True)\n",
    "df[\"Currency\"]=pd.get_dummies(df[\"Currency\"], drop_first=True)\n",
    "df.head()\n"
   ]
  },
  {
   "cell_type": "code",
   "execution_count": 250,
   "id": "d998b16f",
   "metadata": {},
   "outputs": [
    {
     "data": {
      "text/html": [
       "<div>\n",
       "<style scoped>\n",
       "    .dataframe tbody tr th:only-of-type {\n",
       "        vertical-align: middle;\n",
       "    }\n",
       "\n",
       "    .dataframe tbody tr th {\n",
       "        vertical-align: top;\n",
       "    }\n",
       "\n",
       "    .dataframe thead th {\n",
       "        text-align: right;\n",
       "    }\n",
       "</style>\n",
       "<table border=\"1\" class=\"dataframe\">\n",
       "  <thead>\n",
       "    <tr style=\"text-align: right;\">\n",
       "      <th></th>\n",
       "      <th>No</th>\n",
       "      <th>Country</th>\n",
       "      <th>Level of development</th>\n",
       "      <th>European Union Membership</th>\n",
       "      <th>Currency</th>\n",
       "      <th>Women Entrepreneurship Index</th>\n",
       "      <th>Entrepreneurship Index</th>\n",
       "      <th>Inflation rate</th>\n",
       "      <th>Female Labor Force Participation Rate</th>\n",
       "    </tr>\n",
       "  </thead>\n",
       "  <tbody>\n",
       "    <tr>\n",
       "      <th>0</th>\n",
       "      <td>4</td>\n",
       "      <td>Austria</td>\n",
       "      <td>1</td>\n",
       "      <td>1</td>\n",
       "      <td>1</td>\n",
       "      <td>54.9</td>\n",
       "      <td>64.9</td>\n",
       "      <td>0.90</td>\n",
       "      <td>67.1</td>\n",
       "    </tr>\n",
       "    <tr>\n",
       "      <th>1</th>\n",
       "      <td>6</td>\n",
       "      <td>Belgium</td>\n",
       "      <td>1</td>\n",
       "      <td>1</td>\n",
       "      <td>1</td>\n",
       "      <td>63.6</td>\n",
       "      <td>65.5</td>\n",
       "      <td>0.60</td>\n",
       "      <td>58.0</td>\n",
       "    </tr>\n",
       "    <tr>\n",
       "      <th>2</th>\n",
       "      <td>17</td>\n",
       "      <td>Estonia</td>\n",
       "      <td>1</td>\n",
       "      <td>1</td>\n",
       "      <td>1</td>\n",
       "      <td>55.4</td>\n",
       "      <td>60.2</td>\n",
       "      <td>-0.88</td>\n",
       "      <td>68.5</td>\n",
       "    </tr>\n",
       "    <tr>\n",
       "      <th>3</th>\n",
       "      <td>18</td>\n",
       "      <td>Finland</td>\n",
       "      <td>1</td>\n",
       "      <td>1</td>\n",
       "      <td>1</td>\n",
       "      <td>66.4</td>\n",
       "      <td>65.7</td>\n",
       "      <td>-0.20</td>\n",
       "      <td>67.7</td>\n",
       "    </tr>\n",
       "    <tr>\n",
       "      <th>4</th>\n",
       "      <td>19</td>\n",
       "      <td>France</td>\n",
       "      <td>1</td>\n",
       "      <td>1</td>\n",
       "      <td>1</td>\n",
       "      <td>68.8</td>\n",
       "      <td>67.3</td>\n",
       "      <td>0.00</td>\n",
       "      <td>60.6</td>\n",
       "    </tr>\n",
       "  </tbody>\n",
       "</table>\n",
       "</div>"
      ],
      "text/plain": [
       "   No  Country  Level of development  European Union Membership  Currency  \\\n",
       "0   4  Austria                     1                          1         1   \n",
       "1   6  Belgium                     1                          1         1   \n",
       "2  17  Estonia                     1                          1         1   \n",
       "3  18  Finland                     1                          1         1   \n",
       "4  19   France                     1                          1         1   \n",
       "\n",
       "   Women Entrepreneurship Index  Entrepreneurship Index  Inflation rate  \\\n",
       "0                          54.9                    64.9            0.90   \n",
       "1                          63.6                    65.5            0.60   \n",
       "2                          55.4                    60.2           -0.88   \n",
       "3                          66.4                    65.7           -0.20   \n",
       "4                          68.8                    67.3            0.00   \n",
       "\n",
       "   Female Labor Force Participation Rate  \n",
       "0                                   67.1  \n",
       "1                                   58.0  \n",
       "2                                   68.5  \n",
       "3                                   67.7  \n",
       "4                                   60.6  "
      ]
     },
     "execution_count": 250,
     "metadata": {},
     "output_type": "execute_result"
    }
   ],
   "source": [
    "for i in range(len(df)):\n",
    "    if(df.iloc[i, 2]==0):\n",
    "        df.iloc[i, 2]=1\n",
    "    elif(df.iloc[i, 2]==1):\n",
    "        df.iloc[i, 2]=0\n",
    "    if(df.iloc[i, 3]==0):\n",
    "        df.iloc[i, 3]=1\n",
    "    elif(df.iloc[i, 3]==1):\n",
    "        df.iloc[i, 3]=0\n",
    "    if(df.iloc[i, 4]==0):\n",
    "        df.iloc[i, 4]=1\n",
    "    elif(df.iloc[i, 4]==1):\n",
    "        df.iloc[i, 4]=0\n",
    "df.head()"
   ]
  },
  {
   "cell_type": "code",
   "execution_count": 251,
   "id": "cc5e300e",
   "metadata": {},
   "outputs": [],
   "source": [
    "df_alterado = df.drop(['No'],axis=1)\n",
    "df_alterado = df_alterado.drop(['Country'],axis=1)\n"
   ]
  },
  {
   "cell_type": "code",
   "execution_count": 252,
   "id": "06be15e0",
   "metadata": {
    "scrolled": true
   },
   "outputs": [
    {
     "data": {
      "text/html": [
       "<div>\n",
       "<style scoped>\n",
       "    .dataframe tbody tr th:only-of-type {\n",
       "        vertical-align: middle;\n",
       "    }\n",
       "\n",
       "    .dataframe tbody tr th {\n",
       "        vertical-align: top;\n",
       "    }\n",
       "\n",
       "    .dataframe thead th {\n",
       "        text-align: right;\n",
       "    }\n",
       "</style>\n",
       "<table border=\"1\" class=\"dataframe\">\n",
       "  <thead>\n",
       "    <tr style=\"text-align: right;\">\n",
       "      <th></th>\n",
       "      <th>Level of development</th>\n",
       "      <th>European Union Membership</th>\n",
       "      <th>Currency</th>\n",
       "      <th>Women Entrepreneurship Index</th>\n",
       "      <th>Entrepreneurship Index</th>\n",
       "      <th>Inflation rate</th>\n",
       "      <th>Female Labor Force Participation Rate</th>\n",
       "    </tr>\n",
       "  </thead>\n",
       "  <tbody>\n",
       "    <tr>\n",
       "      <th>0</th>\n",
       "      <td>1</td>\n",
       "      <td>1</td>\n",
       "      <td>1</td>\n",
       "      <td>54.9</td>\n",
       "      <td>64.9</td>\n",
       "      <td>0.90</td>\n",
       "      <td>67.1</td>\n",
       "    </tr>\n",
       "    <tr>\n",
       "      <th>1</th>\n",
       "      <td>1</td>\n",
       "      <td>1</td>\n",
       "      <td>1</td>\n",
       "      <td>63.6</td>\n",
       "      <td>65.5</td>\n",
       "      <td>0.60</td>\n",
       "      <td>58.0</td>\n",
       "    </tr>\n",
       "    <tr>\n",
       "      <th>2</th>\n",
       "      <td>1</td>\n",
       "      <td>1</td>\n",
       "      <td>1</td>\n",
       "      <td>55.4</td>\n",
       "      <td>60.2</td>\n",
       "      <td>-0.88</td>\n",
       "      <td>68.5</td>\n",
       "    </tr>\n",
       "    <tr>\n",
       "      <th>3</th>\n",
       "      <td>1</td>\n",
       "      <td>1</td>\n",
       "      <td>1</td>\n",
       "      <td>66.4</td>\n",
       "      <td>65.7</td>\n",
       "      <td>-0.20</td>\n",
       "      <td>67.7</td>\n",
       "    </tr>\n",
       "    <tr>\n",
       "      <th>4</th>\n",
       "      <td>1</td>\n",
       "      <td>1</td>\n",
       "      <td>1</td>\n",
       "      <td>68.8</td>\n",
       "      <td>67.3</td>\n",
       "      <td>0.00</td>\n",
       "      <td>60.6</td>\n",
       "    </tr>\n",
       "  </tbody>\n",
       "</table>\n",
       "</div>"
      ],
      "text/plain": [
       "   Level of development  European Union Membership  Currency  \\\n",
       "0                     1                          1         1   \n",
       "1                     1                          1         1   \n",
       "2                     1                          1         1   \n",
       "3                     1                          1         1   \n",
       "4                     1                          1         1   \n",
       "\n",
       "   Women Entrepreneurship Index  Entrepreneurship Index  Inflation rate  \\\n",
       "0                          54.9                    64.9            0.90   \n",
       "1                          63.6                    65.5            0.60   \n",
       "2                          55.4                    60.2           -0.88   \n",
       "3                          66.4                    65.7           -0.20   \n",
       "4                          68.8                    67.3            0.00   \n",
       "\n",
       "   Female Labor Force Participation Rate  \n",
       "0                                   67.1  \n",
       "1                                   58.0  \n",
       "2                                   68.5  \n",
       "3                                   67.7  \n",
       "4                                   60.6  "
      ]
     },
     "execution_count": 252,
     "metadata": {},
     "output_type": "execute_result"
    }
   ],
   "source": [
    "df_alterado.head()"
   ]
  },
  {
   "cell_type": "code",
   "execution_count": 253,
   "id": "49b58bcf",
   "metadata": {},
   "outputs": [
    {
     "data": {
      "text/plain": [
       "<seaborn.axisgrid.PairGrid at 0x7fb552563eb0>"
      ]
     },
     "execution_count": 253,
     "metadata": {},
     "output_type": "execute_result"
    },
    {
     "data": {
      "image/png": "[encoded data removed]",
      "text/plain": [
       "<Figure size 1383.05x1260 with 56 Axes>"
      ]
     },
     "metadata": {
      "needs_background": "light"
     },
     "output_type": "display_data"
    }
   ],
   "source": [
    "g = sns.PairGrid(df, hue='Level of development')\n",
    "g.map_diag(sns.kdeplot, lw=3)\n",
    "g.map_offdiag(plt.scatter)\n",
    "g.add_legend()"
   ]
  },
  {
   "cell_type": "code",
   "execution_count": 254,
   "id": "5758f8c6",
   "metadata": {},
   "outputs": [
    {
     "data": {
      "text/html": [
       "<div>\n",
       "<style scoped>\n",
       "    .dataframe tbody tr th:only-of-type {\n",
       "        vertical-align: middle;\n",
       "    }\n",
       "\n",
       "    .dataframe tbody tr th {\n",
       "        vertical-align: top;\n",
       "    }\n",
       "\n",
       "    .dataframe thead th {\n",
       "        text-align: right;\n",
       "    }\n",
       "</style>\n",
       "<table border=\"1\" class=\"dataframe\">\n",
       "  <thead>\n",
       "    <tr style=\"text-align: right;\">\n",
       "      <th></th>\n",
       "      <th>Level of development</th>\n",
       "      <th>European Union Membership</th>\n",
       "      <th>Currency</th>\n",
       "      <th>Women Entrepreneurship Index</th>\n",
       "      <th>Entrepreneurship Index</th>\n",
       "      <th>Inflation rate</th>\n",
       "      <th>Female Labor Force Participation Rate</th>\n",
       "    </tr>\n",
       "  </thead>\n",
       "  <tbody>\n",
       "    <tr>\n",
       "      <th>0</th>\n",
       "      <td>0.93352</td>\n",
       "      <td>1.232724</td>\n",
       "      <td>1.53393</td>\n",
       "      <td>0.495127</td>\n",
       "      <td>1.090512</td>\n",
       "      <td>-0.313652</td>\n",
       "      <td>0.621601</td>\n",
       "    </tr>\n",
       "    <tr>\n",
       "      <th>1</th>\n",
       "      <td>0.93352</td>\n",
       "      <td>1.232724</td>\n",
       "      <td>1.53393</td>\n",
       "      <td>1.104862</td>\n",
       "      <td>1.127565</td>\n",
       "      <td>-0.369407</td>\n",
       "      <td>-0.034748</td>\n",
       "    </tr>\n",
       "    <tr>\n",
       "      <th>2</th>\n",
       "      <td>0.93352</td>\n",
       "      <td>1.232724</td>\n",
       "      <td>1.53393</td>\n",
       "      <td>0.530169</td>\n",
       "      <td>0.800266</td>\n",
       "      <td>-0.644467</td>\n",
       "      <td>0.722578</td>\n",
       "    </tr>\n",
       "    <tr>\n",
       "      <th>3</th>\n",
       "      <td>0.93352</td>\n",
       "      <td>1.232724</td>\n",
       "      <td>1.53393</td>\n",
       "      <td>1.301099</td>\n",
       "      <td>1.139916</td>\n",
       "      <td>-0.518088</td>\n",
       "      <td>0.664877</td>\n",
       "    </tr>\n",
       "    <tr>\n",
       "      <th>4</th>\n",
       "      <td>0.93352</td>\n",
       "      <td>1.232724</td>\n",
       "      <td>1.53393</td>\n",
       "      <td>1.469302</td>\n",
       "      <td>1.238723</td>\n",
       "      <td>-0.480918</td>\n",
       "      <td>0.152780</td>\n",
       "    </tr>\n",
       "  </tbody>\n",
       "</table>\n",
       "</div>"
      ],
      "text/plain": [
       "   Level of development  European Union Membership  Currency  \\\n",
       "0               0.93352                   1.232724   1.53393   \n",
       "1               0.93352                   1.232724   1.53393   \n",
       "2               0.93352                   1.232724   1.53393   \n",
       "3               0.93352                   1.232724   1.53393   \n",
       "4               0.93352                   1.232724   1.53393   \n",
       "\n",
       "   Women Entrepreneurship Index  Entrepreneurship Index  Inflation rate  \\\n",
       "0                      0.495127                1.090512       -0.313652   \n",
       "1                      1.104862                1.127565       -0.369407   \n",
       "2                      0.530169                0.800266       -0.644467   \n",
       "3                      1.301099                1.139916       -0.518088   \n",
       "4                      1.469302                1.238723       -0.480918   \n",
       "\n",
       "   Female Labor Force Participation Rate  \n",
       "0                               0.621601  \n",
       "1                              -0.034748  \n",
       "2                               0.722578  \n",
       "3                               0.664877  \n",
       "4                               0.152780  "
      ]
     },
     "execution_count": 254,
     "metadata": {},
     "output_type": "execute_result"
    }
   ],
   "source": [
    "normalized_df = (df_alterado-df_alterado.mean())/df_alterado.std()\n",
    "normalized_df.head()"
   ]
  },
  {
   "cell_type": "code",
   "execution_count": 255,
   "id": "adef7802",
   "metadata": {},
   "outputs": [
    {
     "name": "stdout",
     "output_type": "stream",
     "text": [
      "Silhouette Score for k = 2: 0.477\n",
      "Silhouette Score for k = 3: 0.453\n",
      "Silhouette Score for k = 4: 0.428\n",
      "Silhouette Score for k = 5: 0.449\n"
     ]
    }
   ],
   "source": [
    "limit = int((normalized_df.shape[0]//2)**0.5)\n",
    "for k in range(2, limit+1):\n",
    "    model = KMeans(n_clusters=k)\n",
    "    model.fit(normalized_df)\n",
    "    pred = model.predict(normalized_df)\n",
    "    score = silhouette_score(normalized_df, pred)\n",
    "    print('Silhouette Score for k = {}: {:<.3f}'.format(k, score))"
   ]
  },
  {
   "cell_type": "code",
   "execution_count": 256,
   "id": "8fe2ce91",
   "metadata": {},
   "outputs": [
    {
     "data": {
      "text/html": [
       "<style>#sk-container-id-7 {color: black;background-color: white;}#sk-container-id-7 pre{padding: 0;}#sk-container-id-7 div.sk-toggleable {background-color: white;}#sk-container-id-7 label.sk-toggleable__label {cursor: pointer;display: block;width: 100%;margin-bottom: 0;padding: 0.3em;box-sizing: border-box;text-align: center;}#sk-container-id-7 label.sk-toggleable__label-arrow:before {content: \"▸\";float: left;margin-right: 0.25em;color: #696969;}#sk-container-id-7 label.sk-toggleable__label-arrow:hover:before {color: black;}#sk-container-id-7 div.sk-estimator:hover label.sk-toggleable__label-arrow:before {color: black;}#sk-container-id-7 div.sk-toggleable__content {max-height: 0;max-width: 0;overflow: hidden;text-align: left;background-color: #f0f8ff;}#sk-container-id-7 div.sk-toggleable__content pre {margin: 0.2em;color: black;border-radius: 0.25em;background-color: #f0f8ff;}#sk-container-id-7 input.sk-toggleable__control:checked~div.sk-toggleable__content {max-height: 200px;max-width: 100%;overflow: auto;}#sk-container-id-7 input.sk-toggleable__control:checked~label.sk-toggleable__label-arrow:before {content: \"▾\";}#sk-container-id-7 div.sk-estimator input.sk-toggleable__control:checked~label.sk-toggleable__label {background-color: #d4ebff;}#sk-container-id-7 div.sk-label input.sk-toggleable__control:checked~label.sk-toggleable__label {background-color: #d4ebff;}#sk-container-id-7 input.sk-hidden--visually {border: 0;clip: rect(1px 1px 1px 1px);clip: rect(1px, 1px, 1px, 1px);height: 1px;margin: -1px;overflow: hidden;padding: 0;position: absolute;width: 1px;}#sk-container-id-7 div.sk-estimator {font-family: monospace;background-color: #f0f8ff;border: 1px dotted black;border-radius: 0.25em;box-sizing: border-box;margin-bottom: 0.5em;}#sk-container-id-7 div.sk-estimator:hover {background-color: #d4ebff;}#sk-container-id-7 div.sk-parallel-item::after {content: \"\";width: 100%;border-bottom: 1px solid gray;flex-grow: 1;}#sk-container-id-7 div.sk-label:hover label.sk-toggleable__label {background-color: #d4ebff;}#sk-container-id-7 div.sk-serial::before {content: \"\";position: absolute;border-left: 1px solid gray;box-sizing: border-box;top: 0;bottom: 0;left: 50%;z-index: 0;}#sk-container-id-7 div.sk-serial {display: flex;flex-direction: column;align-items: center;background-color: white;padding-right: 0.2em;padding-left: 0.2em;position: relative;}#sk-container-id-7 div.sk-item {position: relative;z-index: 1;}#sk-container-id-7 div.sk-parallel {display: flex;align-items: stretch;justify-content: center;background-color: white;position: relative;}#sk-container-id-7 div.sk-item::before, #sk-container-id-7 div.sk-parallel-item::before {content: \"\";position: absolute;border-left: 1px solid gray;box-sizing: border-box;top: 0;bottom: 0;left: 50%;z-index: -1;}#sk-container-id-7 div.sk-parallel-item {display: flex;flex-direction: column;z-index: 1;position: relative;background-color: white;}#sk-container-id-7 div.sk-parallel-item:first-child::after {align-self: flex-end;width: 50%;}#sk-container-id-7 div.sk-parallel-item:last-child::after {align-self: flex-start;width: 50%;}#sk-container-id-7 div.sk-parallel-item:only-child::after {width: 0;}#sk-container-id-7 div.sk-dashed-wrapped {border: 1px dashed gray;margin: 0 0.4em 0.5em 0.4em;box-sizing: border-box;padding-bottom: 0.4em;background-color: white;}#sk-container-id-7 div.sk-label label {font-family: monospace;font-weight: bold;display: inline-block;line-height: 1.2em;}#sk-container-id-7 div.sk-label-container {text-align: center;}#sk-container-id-7 div.sk-container {/* jupyter's `normalize.less` sets `[hidden] { display: none; }` but bootstrap.min.css set `[hidden] { display: none !important; }` so we also need the `!important` here to be able to override the default hidden behavior on the sphinx rendered scikit-learn.org. See: https://github.com/scikit-learn/scikit-learn/issues/21755 */display: inline-block !important;position: relative;}#sk-container-id-7 div.sk-text-repr-fallback {display: none;}</style><div id=\"sk-container-id-7\" class=\"sk-top-container\"><div class=\"sk-text-repr-fallback\"><pre>KMeans(max_iter=200, n_clusters=2, n_init=100, random_state=0)</pre><b>In a Jupyter environment, please rerun this cell to show the HTML representation or trust the notebook. <br />On GitHub, the HTML representation is unable to render, please try loading this page with nbviewer.org.</b></div><div class=\"sk-container\" hidden><div class=\"sk-item\"><div class=\"sk-estimator sk-toggleable\"><input class=\"sk-toggleable__control sk-hidden--visually\" id=\"sk-estimator-id-7\" type=\"checkbox\" checked><label for=\"sk-estimator-id-7\" class=\"sk-toggleable__label sk-toggleable__label-arrow\">KMeans</label><div class=\"sk-toggleable__content\"><pre>KMeans(max_iter=200, n_clusters=2, n_init=100, random_state=0)</pre></div></div></div></div></div>"
      ],
      "text/plain": [
       "KMeans(max_iter=200, n_clusters=2, n_init=100, random_state=0)"
      ]
     },
     "execution_count": 256,
     "metadata": {},
     "output_type": "execute_result"
    }
   ],
   "source": [
    "modelo = KMeans(n_clusters=2, n_init=100, max_iter = 200, random_state=0)\n",
    "modelo.fit(normalized_df)"
   ]
  },
  {
   "cell_type": "code",
   "execution_count": 257,
   "id": "4e93a49d",
   "metadata": {},
   "outputs": [
    {
     "data": {
      "text/plain": [
       "array([[ 0.93352006,  0.70693835,  0.56812221,  0.8076519 ,  0.75612278,\n",
       "        -0.47830246,  0.33277568],\n",
       "       [-1.05021006, -0.79530564, -0.63913749, -0.90860838, -0.85063813,\n",
       "         0.53809027, -0.37437264]])"
      ]
     },
     "execution_count": 257,
     "metadata": {},
     "output_type": "execute_result"
    }
   ],
   "source": [
    "modelo.cluster_centers_"
   ]
  },
  {
   "cell_type": "code",
   "execution_count": 258,
   "id": "cbe19c84",
   "metadata": {
    "scrolled": true
   },
   "outputs": [
    {
     "data": {
      "text/plain": [
       "array([0, 0, 0, 0, 0, 0, 0, 0, 0, 0, 0, 0, 0, 0, 0, 0, 0, 0, 0, 0, 0, 0,\n",
       "       0, 0, 0, 0, 0, 1, 1, 1, 1, 1, 1, 1, 1, 1, 1, 1, 1, 1, 1, 1, 1, 1,\n",
       "       1, 1, 1, 1, 1, 1, 1], dtype=int32)"
      ]
     },
     "execution_count": 258,
     "metadata": {},
     "output_type": "execute_result"
    }
   ],
   "source": [
    "clusters_ = modelo.labels_\n",
    "clusters_"
   ]
  },
  {
   "cell_type": "code",
   "execution_count": 259,
   "id": "1c6de497",
   "metadata": {},
   "outputs": [
    {
     "data": {
      "text/html": [
       "<div>\n",
       "<style scoped>\n",
       "    .dataframe tbody tr th:only-of-type {\n",
       "        vertical-align: middle;\n",
       "    }\n",
       "\n",
       "    .dataframe tbody tr th {\n",
       "        vertical-align: top;\n",
       "    }\n",
       "\n",
       "    .dataframe thead th {\n",
       "        text-align: right;\n",
       "    }\n",
       "</style>\n",
       "<table border=\"1\" class=\"dataframe\">\n",
       "  <thead>\n",
       "    <tr style=\"text-align: right;\">\n",
       "      <th></th>\n",
       "      <th>Level of development</th>\n",
       "      <th>European Union Membership</th>\n",
       "      <th>Currency</th>\n",
       "      <th>Women Entrepreneurship Index</th>\n",
       "      <th>Entrepreneurship Index</th>\n",
       "      <th>Inflation rate</th>\n",
       "      <th>Female Labor Force Participation Rate</th>\n",
       "      <th>cluster</th>\n",
       "    </tr>\n",
       "  </thead>\n",
       "  <tbody>\n",
       "    <tr>\n",
       "      <th>0</th>\n",
       "      <td>1</td>\n",
       "      <td>1</td>\n",
       "      <td>1</td>\n",
       "      <td>54.9</td>\n",
       "      <td>64.9</td>\n",
       "      <td>0.90</td>\n",
       "      <td>67.1</td>\n",
       "      <td>0</td>\n",
       "    </tr>\n",
       "    <tr>\n",
       "      <th>1</th>\n",
       "      <td>1</td>\n",
       "      <td>1</td>\n",
       "      <td>1</td>\n",
       "      <td>63.6</td>\n",
       "      <td>65.5</td>\n",
       "      <td>0.60</td>\n",
       "      <td>58.0</td>\n",
       "      <td>0</td>\n",
       "    </tr>\n",
       "    <tr>\n",
       "      <th>2</th>\n",
       "      <td>1</td>\n",
       "      <td>1</td>\n",
       "      <td>1</td>\n",
       "      <td>55.4</td>\n",
       "      <td>60.2</td>\n",
       "      <td>-0.88</td>\n",
       "      <td>68.5</td>\n",
       "      <td>0</td>\n",
       "    </tr>\n",
       "    <tr>\n",
       "      <th>3</th>\n",
       "      <td>1</td>\n",
       "      <td>1</td>\n",
       "      <td>1</td>\n",
       "      <td>66.4</td>\n",
       "      <td>65.7</td>\n",
       "      <td>-0.20</td>\n",
       "      <td>67.7</td>\n",
       "      <td>0</td>\n",
       "    </tr>\n",
       "    <tr>\n",
       "      <th>4</th>\n",
       "      <td>1</td>\n",
       "      <td>1</td>\n",
       "      <td>1</td>\n",
       "      <td>68.8</td>\n",
       "      <td>67.3</td>\n",
       "      <td>0.00</td>\n",
       "      <td>60.6</td>\n",
       "      <td>0</td>\n",
       "    </tr>\n",
       "  </tbody>\n",
       "</table>\n",
       "</div>"
      ],
      "text/plain": [
       "   Level of development  European Union Membership  Currency  \\\n",
       "0                     1                          1         1   \n",
       "1                     1                          1         1   \n",
       "2                     1                          1         1   \n",
       "3                     1                          1         1   \n",
       "4                     1                          1         1   \n",
       "\n",
       "   Women Entrepreneurship Index  Entrepreneurship Index  Inflation rate  \\\n",
       "0                          54.9                    64.9            0.90   \n",
       "1                          63.6                    65.5            0.60   \n",
       "2                          55.4                    60.2           -0.88   \n",
       "3                          66.4                    65.7           -0.20   \n",
       "4                          68.8                    67.3            0.00   \n",
       "\n",
       "   Female Labor Force Participation Rate  cluster  \n",
       "0                                   67.1        0  \n",
       "1                                   58.0        0  \n",
       "2                                   68.5        0  \n",
       "3                                   67.7        0  \n",
       "4                                   60.6        0  "
      ]
     },
     "execution_count": 259,
     "metadata": {},
     "output_type": "execute_result"
    }
   ],
   "source": [
    "cluster1 = df_alterado.copy()\n",
    "cluster1['cluster'] = clusters_\n",
    "cluster1.head()"
   ]
  },
  {
   "cell_type": "code",
   "execution_count": 260,
   "id": "0a2a75a2",
   "metadata": {},
   "outputs": [],
   "source": [
    "def plot_cluster_points(df, labels, ax=None):\n",
    "    pca = PCA(2) \n",
    "    pca_data = pd.DataFrame(pca.fit_transform(df), columns=['PC1','PC2']) \n",
    "    pca_data['cluster'] = pd.Categorical(labels)\n",
    "    sns.scatterplot(x=\"PC1\", y=\"PC2\", hue=\"cluster\", data=pca_data, ax=ax)\n",
    "    centroids = modelo_v1.cluster_centers_\n",
    "    inert = modelo_v1.inertia_\n",
    "    sns.scatterplot(centroids[:,0], centroids[:,1], marker = 'x', s = 169, linewidths = 3, color = 'r', zorder = 8)\n"
   ]
  },
  {
   "cell_type": "code",
   "execution_count": 261,
   "id": "dcbcce50",
   "metadata": {
    "scrolled": true
   },
   "outputs": [
    {
     "data": {
      "image/png": "[encoded data removed]",
      "text/plain": [
       "<Figure size 432x288 with 1 Axes>"
      ]
     },
     "metadata": {
      "needs_background": "light"
     },
     "output_type": "display_data"
    }
   ],
   "source": [
    "plot_cluster_points(normalized_df, modelo.labels_)"
   ]
  },
  {
   "cell_type": "code",
   "execution_count": 262,
   "id": "fa85c1bb",
   "metadata": {},
   "outputs": [
    {
     "data": {
      "text/plain": [
       "0.4392207070130234"
      ]
     },
     "execution_count": 262,
     "metadata": {},
     "output_type": "execute_result"
    }
   ],
   "source": [
    "labels = modelo.labels_\n",
    "silhouette_score(cluster1, labels, metric = 'euclidean')"
   ]
  },
  {
   "cell_type": "code",
   "execution_count": 263,
   "id": "1e7f1452",
   "metadata": {},
   "outputs": [
    {
     "data": {
      "image/png": "[encoded data removed]",
      "text/plain": [
       "<Figure size 432x288 with 1 Axes>"
      ]
     },
     "metadata": {
      "needs_background": "light"
     },
     "output_type": "display_data"
    },
    {
     "data": {
      "text/plain": [
       "<AxesSubplot:title={'center':'Distortion Score Elbow for KMeans Clustering'}, xlabel='k', ylabel='distortion score'>"
      ]
     },
     "execution_count": 263,
     "metadata": {},
     "output_type": "execute_result"
    }
   ],
   "source": [
    "from yellowbrick.cluster import KElbowVisualizer\n",
    "\n",
    "km = KMeans()\n",
    "visualizer = KElbowVisualizer(\n",
    "    km, k=(2,10), metric='distortion', timings=False\n",
    ")\n",
    "visualizer.fit(normalized_df)        \n",
    "visualizer.show() "
   ]
  },
  {
   "cell_type": "code",
   "execution_count": 264,
   "id": "c2941b51",
   "metadata": {},
   "outputs": [
    {
     "data": {
      "text/html": [
       "<style>#sk-container-id-8 {color: black;background-color: white;}#sk-container-id-8 pre{padding: 0;}#sk-container-id-8 div.sk-toggleable {background-color: white;}#sk-container-id-8 label.sk-toggleable__label {cursor: pointer;display: block;width: 100%;margin-bottom: 0;padding: 0.3em;box-sizing: border-box;text-align: center;}#sk-container-id-8 label.sk-toggleable__label-arrow:before {content: \"▸\";float: left;margin-right: 0.25em;color: #696969;}#sk-container-id-8 label.sk-toggleable__label-arrow:hover:before {color: black;}#sk-container-id-8 div.sk-estimator:hover label.sk-toggleable__label-arrow:before {color: black;}#sk-container-id-8 div.sk-toggleable__content {max-height: 0;max-width: 0;overflow: hidden;text-align: left;background-color: #f0f8ff;}#sk-container-id-8 div.sk-toggleable__content pre {margin: 0.2em;color: black;border-radius: 0.25em;background-color: #f0f8ff;}#sk-container-id-8 input.sk-toggleable__control:checked~div.sk-toggleable__content {max-height: 200px;max-width: 100%;overflow: auto;}#sk-container-id-8 input.sk-toggleable__control:checked~label.sk-toggleable__label-arrow:before {content: \"▾\";}#sk-container-id-8 div.sk-estimator input.sk-toggleable__control:checked~label.sk-toggleable__label {background-color: #d4ebff;}#sk-container-id-8 div.sk-label input.sk-toggleable__control:checked~label.sk-toggleable__label {background-color: #d4ebff;}#sk-container-id-8 input.sk-hidden--visually {border: 0;clip: rect(1px 1px 1px 1px);clip: rect(1px, 1px, 1px, 1px);height: 1px;margin: -1px;overflow: hidden;padding: 0;position: absolute;width: 1px;}#sk-container-id-8 div.sk-estimator {font-family: monospace;background-color: #f0f8ff;border: 1px dotted black;border-radius: 0.25em;box-sizing: border-box;margin-bottom: 0.5em;}#sk-container-id-8 div.sk-estimator:hover {background-color: #d4ebff;}#sk-container-id-8 div.sk-parallel-item::after {content: \"\";width: 100%;border-bottom: 1px solid gray;flex-grow: 1;}#sk-container-id-8 div.sk-label:hover label.sk-toggleable__label {background-color: #d4ebff;}#sk-container-id-8 div.sk-serial::before {content: \"\";position: absolute;border-left: 1px solid gray;box-sizing: border-box;top: 0;bottom: 0;left: 50%;z-index: 0;}#sk-container-id-8 div.sk-serial {display: flex;flex-direction: column;align-items: center;background-color: white;padding-right: 0.2em;padding-left: 0.2em;position: relative;}#sk-container-id-8 div.sk-item {position: relative;z-index: 1;}#sk-container-id-8 div.sk-parallel {display: flex;align-items: stretch;justify-content: center;background-color: white;position: relative;}#sk-container-id-8 div.sk-item::before, #sk-container-id-8 div.sk-parallel-item::before {content: \"\";position: absolute;border-left: 1px solid gray;box-sizing: border-box;top: 0;bottom: 0;left: 50%;z-index: -1;}#sk-container-id-8 div.sk-parallel-item {display: flex;flex-direction: column;z-index: 1;position: relative;background-color: white;}#sk-container-id-8 div.sk-parallel-item:first-child::after {align-self: flex-end;width: 50%;}#sk-container-id-8 div.sk-parallel-item:last-child::after {align-self: flex-start;width: 50%;}#sk-container-id-8 div.sk-parallel-item:only-child::after {width: 0;}#sk-container-id-8 div.sk-dashed-wrapped {border: 1px dashed gray;margin: 0 0.4em 0.5em 0.4em;box-sizing: border-box;padding-bottom: 0.4em;background-color: white;}#sk-container-id-8 div.sk-label label {font-family: monospace;font-weight: bold;display: inline-block;line-height: 1.2em;}#sk-container-id-8 div.sk-label-container {text-align: center;}#sk-container-id-8 div.sk-container {/* jupyter's `normalize.less` sets `[hidden] { display: none; }` but bootstrap.min.css set `[hidden] { display: none !important; }` so we also need the `!important` here to be able to override the default hidden behavior on the sphinx rendered scikit-learn.org. See: https://github.com/scikit-learn/scikit-learn/issues/21755 */display: inline-block !important;position: relative;}#sk-container-id-8 div.sk-text-repr-fallback {display: none;}</style><div id=\"sk-container-id-8\" class=\"sk-top-container\"><div class=\"sk-text-repr-fallback\"><pre>KMeans(max_iter=200, n_clusters=5, n_init=100, random_state=0)</pre><b>In a Jupyter environment, please rerun this cell to show the HTML representation or trust the notebook. <br />On GitHub, the HTML representation is unable to render, please try loading this page with nbviewer.org.</b></div><div class=\"sk-container\" hidden><div class=\"sk-item\"><div class=\"sk-estimator sk-toggleable\"><input class=\"sk-toggleable__control sk-hidden--visually\" id=\"sk-estimator-id-8\" type=\"checkbox\" checked><label for=\"sk-estimator-id-8\" class=\"sk-toggleable__label sk-toggleable__label-arrow\">KMeans</label><div class=\"sk-toggleable__content\"><pre>KMeans(max_iter=200, n_clusters=5, n_init=100, random_state=0)</pre></div></div></div></div></div>"
      ],
      "text/plain": [
       "KMeans(max_iter=200, n_clusters=5, n_init=100, random_state=0)"
      ]
     },
     "execution_count": 264,
     "metadata": {},
     "output_type": "execute_result"
    }
   ],
   "source": [
    "modelo_v1 = KMeans(n_clusters=5, n_init=100, max_iter = 200, random_state=0)\n",
    "modelo_v1.fit(normalized_df)"
   ]
  },
  {
   "cell_type": "code",
   "execution_count": 265,
   "id": "96c151e5",
   "metadata": {},
   "outputs": [
    {
     "data": {
      "text/plain": [
       "array([[ 0.93352006,  0.0497066 , -0.63913749,  0.87416732,  0.90524849,\n",
       "        -0.43662354,  0.53613178],\n",
       "       [-1.05021006, -0.79530564, -0.63913749, -0.80944709, -0.89489553,\n",
       "        -0.10231205,  0.21717897],\n",
       "       [ 0.93352006,  1.23272375,  1.53392998,  0.75443955,  0.63682221,\n",
       "        -0.5116456 ,  0.17009079],\n",
       "       [-1.05021006, -0.79530564, -0.63913749, -1.16727877, -1.0943626 ,\n",
       "         2.5250444 ,  0.02006808],\n",
       "       [-1.05021006, -0.79530564, -0.63913749, -0.92758961, -0.48299293,\n",
       "         0.34426262, -2.42515786]])"
      ]
     },
     "execution_count": 265,
     "metadata": {},
     "output_type": "execute_result"
    }
   ],
   "source": [
    "modelo_v1.cluster_centers_"
   ]
  },
  {
   "cell_type": "code",
   "execution_count": 266,
   "id": "fe9bc9b5",
   "metadata": {},
   "outputs": [
    {
     "data": {
      "text/plain": [
       "array([2, 2, 2, 2, 2, 2, 2, 2, 2, 2, 2, 2, 2, 2, 2, 0, 0, 0, 0, 0, 0, 0,\n",
       "       0, 0, 0, 0, 0, 4, 3, 1, 1, 3, 1, 1, 1, 3, 1, 3, 1, 4, 1, 1, 1, 1,\n",
       "       1, 3, 4, 1, 4, 4, 1], dtype=int32)"
      ]
     },
     "execution_count": 266,
     "metadata": {},
     "output_type": "execute_result"
    }
   ],
   "source": [
    "clusters = modelo_v1.labels_\n",
    "clusters"
   ]
  },
  {
   "cell_type": "code",
   "execution_count": 267,
   "id": "091ee3d8",
   "metadata": {},
   "outputs": [
    {
     "data": {
      "text/html": [
       "<div>\n",
       "<style scoped>\n",
       "    .dataframe tbody tr th:only-of-type {\n",
       "        vertical-align: middle;\n",
       "    }\n",
       "\n",
       "    .dataframe tbody tr th {\n",
       "        vertical-align: top;\n",
       "    }\n",
       "\n",
       "    .dataframe thead th {\n",
       "        text-align: right;\n",
       "    }\n",
       "</style>\n",
       "<table border=\"1\" class=\"dataframe\">\n",
       "  <thead>\n",
       "    <tr style=\"text-align: right;\">\n",
       "      <th></th>\n",
       "      <th>No</th>\n",
       "      <th>Country</th>\n",
       "      <th>Level of development</th>\n",
       "      <th>European Union Membership</th>\n",
       "      <th>Currency</th>\n",
       "      <th>Women Entrepreneurship Index</th>\n",
       "      <th>Entrepreneurship Index</th>\n",
       "      <th>Inflation rate</th>\n",
       "      <th>Female Labor Force Participation Rate</th>\n",
       "      <th>cluster</th>\n",
       "    </tr>\n",
       "  </thead>\n",
       "  <tbody>\n",
       "    <tr>\n",
       "      <th>0</th>\n",
       "      <td>4</td>\n",
       "      <td>Austria</td>\n",
       "      <td>1</td>\n",
       "      <td>1</td>\n",
       "      <td>1</td>\n",
       "      <td>54.9</td>\n",
       "      <td>64.9</td>\n",
       "      <td>0.90</td>\n",
       "      <td>67.1</td>\n",
       "      <td>2</td>\n",
       "    </tr>\n",
       "    <tr>\n",
       "      <th>1</th>\n",
       "      <td>6</td>\n",
       "      <td>Belgium</td>\n",
       "      <td>1</td>\n",
       "      <td>1</td>\n",
       "      <td>1</td>\n",
       "      <td>63.6</td>\n",
       "      <td>65.5</td>\n",
       "      <td>0.60</td>\n",
       "      <td>58.0</td>\n",
       "      <td>2</td>\n",
       "    </tr>\n",
       "    <tr>\n",
       "      <th>2</th>\n",
       "      <td>17</td>\n",
       "      <td>Estonia</td>\n",
       "      <td>1</td>\n",
       "      <td>1</td>\n",
       "      <td>1</td>\n",
       "      <td>55.4</td>\n",
       "      <td>60.2</td>\n",
       "      <td>-0.88</td>\n",
       "      <td>68.5</td>\n",
       "      <td>2</td>\n",
       "    </tr>\n",
       "    <tr>\n",
       "      <th>3</th>\n",
       "      <td>18</td>\n",
       "      <td>Finland</td>\n",
       "      <td>1</td>\n",
       "      <td>1</td>\n",
       "      <td>1</td>\n",
       "      <td>66.4</td>\n",
       "      <td>65.7</td>\n",
       "      <td>-0.20</td>\n",
       "      <td>67.7</td>\n",
       "      <td>2</td>\n",
       "    </tr>\n",
       "    <tr>\n",
       "      <th>4</th>\n",
       "      <td>19</td>\n",
       "      <td>France</td>\n",
       "      <td>1</td>\n",
       "      <td>1</td>\n",
       "      <td>1</td>\n",
       "      <td>68.8</td>\n",
       "      <td>67.3</td>\n",
       "      <td>0.00</td>\n",
       "      <td>60.6</td>\n",
       "      <td>2</td>\n",
       "    </tr>\n",
       "  </tbody>\n",
       "</table>\n",
       "</div>"
      ],
      "text/plain": [
       "   No  Country  Level of development  European Union Membership  Currency  \\\n",
       "0   4  Austria                     1                          1         1   \n",
       "1   6  Belgium                     1                          1         1   \n",
       "2  17  Estonia                     1                          1         1   \n",
       "3  18  Finland                     1                          1         1   \n",
       "4  19   France                     1                          1         1   \n",
       "\n",
       "   Women Entrepreneurship Index  Entrepreneurship Index  Inflation rate  \\\n",
       "0                          54.9                    64.9            0.90   \n",
       "1                          63.6                    65.5            0.60   \n",
       "2                          55.4                    60.2           -0.88   \n",
       "3                          66.4                    65.7           -0.20   \n",
       "4                          68.8                    67.3            0.00   \n",
       "\n",
       "   Female Labor Force Participation Rate  cluster  \n",
       "0                                   67.1        2  \n",
       "1                                   58.0        2  \n",
       "2                                   68.5        2  \n",
       "3                                   67.7        2  \n",
       "4                                   60.6        2  "
      ]
     },
     "execution_count": 267,
     "metadata": {},
     "output_type": "execute_result"
    }
   ],
   "source": [
    "cluster_df = df.copy()\n",
    "cluster_df['cluster'] = clusters\n",
    "cluster_df.head()"
   ]
  },
  {
   "cell_type": "code",
   "execution_count": 268,
   "id": "2b5d0548",
   "metadata": {},
   "outputs": [
    {
     "data": {
      "image/png": "[encoded data removed]",
      "text/plain": [
       "<Figure size 432x288 with 1 Axes>"
      ]
     },
     "metadata": {
      "needs_background": "light"
     },
     "output_type": "display_data"
    }
   ],
   "source": [
    "plot_cluster_points(normalized_df, modelo_v1.labels_)"
   ]
  },
  {
   "cell_type": "code",
   "execution_count": 269,
   "id": "d4689252",
   "metadata": {},
   "outputs": [],
   "source": [
    "cluster_df = df_alterado.copy()\n",
    "cluster_df['cluster'] = modelo_v1.labels_\n",
    "cluster_df['country'] = df.iloc[:,0]"
   ]
  },
  {
   "cell_type": "code",
   "execution_count": 270,
   "id": "84a59803",
   "metadata": {},
   "outputs": [
    {
     "data": {
      "text/plain": [
       "2    15\n",
       "1    14\n",
       "0    12\n",
       "4     5\n",
       "3     5\n",
       "Name: cluster, dtype: int64"
      ]
     },
     "execution_count": 270,
     "metadata": {},
     "output_type": "execute_result"
    }
   ],
   "source": [
    "cluster_df['cluster'].value_counts()"
   ]
  },
  {
   "cell_type": "code",
   "execution_count": 271,
   "id": "8060c264",
   "metadata": {},
   "outputs": [
    {
     "data": {
      "text/plain": [
       "0.05288090816155779"
      ]
     },
     "execution_count": 271,
     "metadata": {},
     "output_type": "execute_result"
    }
   ],
   "source": [
    "labels = modelo_v1.labels_\n",
    "silhouette_score(cluster_df, labels, metric = 'euclidean')"
   ]
  },
  {
   "cell_type": "code",
   "execution_count": 272,
   "id": "21d273fa",
   "metadata": {},
   "outputs": [],
   "source": [
    "df2 = pd.read_csv(\"Dataset3.csv\", sep=';')"
   ]
  },
  {
   "cell_type": "code",
   "execution_count": 335,
   "id": "b40ff78d",
   "metadata": {},
   "outputs": [],
   "source": [
    "cluster_df = df2.copy()\n",
    "cluster_df['cluster'] = modelo_v1.labels_\n",
    "cluster_df['country'] = df.iloc[:,0]"
   ]
  },
  {
   "cell_type": "code",
   "execution_count": 336,
   "id": "ee7130ad",
   "metadata": {},
   "outputs": [
    {
     "name": "stdout",
     "output_type": "stream",
     "text": [
      "Requirement already satisfied: pivottablejs in /Users/dalila/Applications/anaconda3/lib/python3.9/site-packages (0.9.0)\r\n"
     ]
    }
   ],
   "source": [
    "!pip install pivottablejs \n",
    "from pivottablejs import pivot_ui"
   ]
  },
  {
   "cell_type": "code",
   "execution_count": 337,
   "id": "ba393cf4",
   "metadata": {},
   "outputs": [
    {
     "data": {
      "text/html": [
       "\n",
       "        <iframe\n",
       "            width=\"100%\"\n",
       "            height=\"500\"\n",
       "            src=\"pivottablejs.html\"\n",
       "            frameborder=\"0\"\n",
       "            allowfullscreen\n",
       "            \n",
       "        ></iframe>\n",
       "        "
      ],
      "text/plain": [
       "<IPython.lib.display.IFrame at 0x7fb55525b580>"
      ]
     },
     "execution_count": 337,
     "metadata": {},
     "output_type": "execute_result"
    }
   ],
   "source": [
    "pivot_ui(cluster_df)"
   ]
  },
  {
   "cell_type": "code",
   "execution_count": null,
   "id": "6226da59",
   "metadata": {},
   "outputs": [],
   "source": [
    "DBSCAN"
   ]
  },
  {
   "cell_type": "code",
   "execution_count": 276,
   "id": "65ad0d90",
   "metadata": {},
   "outputs": [],
   "source": [
    "#20 valores para cada parâmetro.\n",
    "faixa_min_samples = [i for i in range(1,100,5)]\n",
    "faixa_eps = [i/10 for i in range(1,100,1)]"
   ]
  },
  {
   "cell_type": "code",
   "execution_count": 277,
   "id": "5273a102",
   "metadata": {},
   "outputs": [],
   "source": [
    "from collections import Counter"
   ]
  },
  {
   "cell_type": "code",
   "execution_count": 278,
   "id": "1e452626",
   "metadata": {},
   "outputs": [],
   "source": [
    "valores_silhueta = []\n",
    "eps_plot = []\n",
    "min_samples_plot = []\n",
    "for min_samples in faixa_min_samples:\n",
    "  for eps in faixa_eps:\n",
    "    labels = 0\n",
    "    agrupador = DBSCAN(eps = eps, min_samples = min_samples, metric = 'euclidean')\n",
    "    agrupador.fit_predict(normalized_df)\n",
    "    labels = agrupador.labels_\n",
    "    if(Counter(labels)[0] < len(normalized_df) and Counter(labels)[0] > 1): #porque não é possível calcular\n",
    "    # silhueta para apenas  um cluster ou para número de clústeres igual\n",
    "    # ao número de dados \n",
    "      media_silhueta = silhouette_score(normalized_df, labels)\n",
    "      valores_silhueta.append(media_silhueta)\n",
    "      eps_plot.append(eps)\n",
    "      min_samples_plot.append(min_samples)"
   ]
  },
  {
   "cell_type": "code",
   "execution_count": 279,
   "id": "7332f79b",
   "metadata": {},
   "outputs": [
    {
     "name": "stdout",
     "output_type": "stream",
     "text": [
      "1.9\n",
      "6\n"
     ]
    }
   ],
   "source": [
    "# pega o índice do vamior valor do coeficiente de silhueta\n",
    "ind = valores_silhueta.index(max(valores_silhueta))\n",
    "# printa os valores de eps e min_samples para o maior valor de coeficiente de silhueta encontrado\n",
    "print(eps_plot[ind])\n",
    "print(min_samples_plot[ind])"
   ]
  },
  {
   "cell_type": "code",
   "execution_count": 280,
   "id": "5eed37cc",
   "metadata": {},
   "outputs": [
    {
     "name": "stdout",
     "output_type": "stream",
     "text": [
      "0.4570815242296384\n"
     ]
    }
   ],
   "source": [
    "print(max(valores_silhueta))"
   ]
  },
  {
   "cell_type": "code",
   "execution_count": 281,
   "id": "593b78af",
   "metadata": {},
   "outputs": [],
   "source": [
    "\n",
    "dbscan = DBSCAN(eps = 1.9, min_samples = 6)\n",
    "modelDB2D = dbscan.fit(normalized_df)\n",
    "core_samples_mask = np.zeros_like(modelDB2D.labels_, dtype=bool)\n",
    "core_samples_mask[modelDB2D.core_sample_indices_] = True\n",
    "labelsDB2D = modelDB2D.labels_"
   ]
  },
  {
   "cell_type": "code",
   "execution_count": 282,
   "id": "a3bd317a",
   "metadata": {},
   "outputs": [
    {
     "data": {
      "image/png": "[encoded data removed]",
      "text/plain": [
       "<Figure size 432x288 with 1 Axes>"
      ]
     },
     "metadata": {
      "needs_background": "light"
     },
     "output_type": "display_data"
    }
   ],
   "source": [
    "plot_cluster_points(normalized_df, modelDB2D.labels_)"
   ]
  },
  {
   "cell_type": "code",
   "execution_count": 283,
   "id": "de398144",
   "metadata": {},
   "outputs": [],
   "source": [
    "cluster_db = df_alterado.copy()\n",
    "cluster_db['cluster'] = modelDB2D.labels_"
   ]
  },
  {
   "cell_type": "code",
   "execution_count": 284,
   "id": "d170c3fc",
   "metadata": {},
   "outputs": [
    {
     "data": {
      "text/plain": [
       "0.12976577600178907"
      ]
     },
     "execution_count": 284,
     "metadata": {},
     "output_type": "execute_result"
    }
   ],
   "source": [
    "labels = labelsDB2D\n",
    "silhouette_score(cluster_db, labels, metric = 'euclidean')"
   ]
  },
  {
   "cell_type": "code",
   "execution_count": 285,
   "id": "97646fb5",
   "metadata": {},
   "outputs": [
    {
     "data": {
      "text/plain": [
       " 2    23\n",
       " 0    15\n",
       " 1     7\n",
       "-1     6\n",
       "Name: cluster, dtype: int64"
      ]
     },
     "execution_count": 285,
     "metadata": {},
     "output_type": "execute_result"
    }
   ],
   "source": [
    "cluster_db['cluster'].value_counts()"
   ]
  },
  {
   "cell_type": "code",
   "execution_count": 309,
   "id": "5c584181",
   "metadata": {},
   "outputs": [],
   "source": [
    "db_df = df_alterado.values"
   ]
  },
  {
   "cell_type": "code",
   "execution_count": 321,
   "id": "5c2ee9fb",
   "metadata": {},
   "outputs": [],
   "source": [
    "from sklearn.neighbors import NearestNeighbors\n",
    "\n",
    "neigh = NearestNeighbors(n_neighbors=3)\n",
    "nbrs = neigh.fit(normalized_df)\n",
    "distances, indices = nbrs.kneighbors(normalized_df)"
   ]
  },
  {
   "cell_type": "code",
   "execution_count": 322,
   "id": "04086cef",
   "metadata": {},
   "outputs": [
    {
     "data": {
      "text/plain": [
       "[<matplotlib.lines.Line2D at 0x7fb555412160>]"
      ]
     },
     "execution_count": 322,
     "metadata": {},
     "output_type": "execute_result"
    },
    {
     "data": {
      "image/png": "[encoded data removed]",
      "text/plain": [
       "<Figure size 432x288 with 1 Axes>"
      ]
     },
     "metadata": {
      "needs_background": "light"
     },
     "output_type": "display_data"
    }
   ],
   "source": [
    "distances = np.sort(distances, axis=0)\n",
    "distances = distances[:,1]\n",
    "plt.plot(distances)"
   ]
  },
  {
   "cell_type": "code",
   "execution_count": 328,
   "id": "dc4db7bf",
   "metadata": {},
   "outputs": [
    {
     "data": {
      "text/html": [
       "<style>#sk-container-id-10 {color: black;background-color: white;}#sk-container-id-10 pre{padding: 0;}#sk-container-id-10 div.sk-toggleable {background-color: white;}#sk-container-id-10 label.sk-toggleable__label {cursor: pointer;display: block;width: 100%;margin-bottom: 0;padding: 0.3em;box-sizing: border-box;text-align: center;}#sk-container-id-10 label.sk-toggleable__label-arrow:before {content: \"▸\";float: left;margin-right: 0.25em;color: #696969;}#sk-container-id-10 label.sk-toggleable__label-arrow:hover:before {color: black;}#sk-container-id-10 div.sk-estimator:hover label.sk-toggleable__label-arrow:before {color: black;}#sk-container-id-10 div.sk-toggleable__content {max-height: 0;max-width: 0;overflow: hidden;text-align: left;background-color: #f0f8ff;}#sk-container-id-10 div.sk-toggleable__content pre {margin: 0.2em;color: black;border-radius: 0.25em;background-color: #f0f8ff;}#sk-container-id-10 input.sk-toggleable__control:checked~div.sk-toggleable__content {max-height: 200px;max-width: 100%;overflow: auto;}#sk-container-id-10 input.sk-toggleable__control:checked~label.sk-toggleable__label-arrow:before {content: \"▾\";}#sk-container-id-10 div.sk-estimator input.sk-toggleable__control:checked~label.sk-toggleable__label {background-color: #d4ebff;}#sk-container-id-10 div.sk-label input.sk-toggleable__control:checked~label.sk-toggleable__label {background-color: #d4ebff;}#sk-container-id-10 input.sk-hidden--visually {border: 0;clip: rect(1px 1px 1px 1px);clip: rect(1px, 1px, 1px, 1px);height: 1px;margin: -1px;overflow: hidden;padding: 0;position: absolute;width: 1px;}#sk-container-id-10 div.sk-estimator {font-family: monospace;background-color: #f0f8ff;border: 1px dotted black;border-radius: 0.25em;box-sizing: border-box;margin-bottom: 0.5em;}#sk-container-id-10 div.sk-estimator:hover {background-color: #d4ebff;}#sk-container-id-10 div.sk-parallel-item::after {content: \"\";width: 100%;border-bottom: 1px solid gray;flex-grow: 1;}#sk-container-id-10 div.sk-label:hover label.sk-toggleable__label {background-color: #d4ebff;}#sk-container-id-10 div.sk-serial::before {content: \"\";position: absolute;border-left: 1px solid gray;box-sizing: border-box;top: 0;bottom: 0;left: 50%;z-index: 0;}#sk-container-id-10 div.sk-serial {display: flex;flex-direction: column;align-items: center;background-color: white;padding-right: 0.2em;padding-left: 0.2em;position: relative;}#sk-container-id-10 div.sk-item {position: relative;z-index: 1;}#sk-container-id-10 div.sk-parallel {display: flex;align-items: stretch;justify-content: center;background-color: white;position: relative;}#sk-container-id-10 div.sk-item::before, #sk-container-id-10 div.sk-parallel-item::before {content: \"\";position: absolute;border-left: 1px solid gray;box-sizing: border-box;top: 0;bottom: 0;left: 50%;z-index: -1;}#sk-container-id-10 div.sk-parallel-item {display: flex;flex-direction: column;z-index: 1;position: relative;background-color: white;}#sk-container-id-10 div.sk-parallel-item:first-child::after {align-self: flex-end;width: 50%;}#sk-container-id-10 div.sk-parallel-item:last-child::after {align-self: flex-start;width: 50%;}#sk-container-id-10 div.sk-parallel-item:only-child::after {width: 0;}#sk-container-id-10 div.sk-dashed-wrapped {border: 1px dashed gray;margin: 0 0.4em 0.5em 0.4em;box-sizing: border-box;padding-bottom: 0.4em;background-color: white;}#sk-container-id-10 div.sk-label label {font-family: monospace;font-weight: bold;display: inline-block;line-height: 1.2em;}#sk-container-id-10 div.sk-label-container {text-align: center;}#sk-container-id-10 div.sk-container {/* jupyter's `normalize.less` sets `[hidden] { display: none; }` but bootstrap.min.css set `[hidden] { display: none !important; }` so we also need the `!important` here to be able to override the default hidden behavior on the sphinx rendered scikit-learn.org. See: https://github.com/scikit-learn/scikit-learn/issues/21755 */display: inline-block !important;position: relative;}#sk-container-id-10 div.sk-text-repr-fallback {display: none;}</style><div id=\"sk-container-id-10\" class=\"sk-top-container\"><div class=\"sk-text-repr-fallback\"><pre>DBSCAN(eps=1.2)</pre><b>In a Jupyter environment, please rerun this cell to show the HTML representation or trust the notebook. <br />On GitHub, the HTML representation is unable to render, please try loading this page with nbviewer.org.</b></div><div class=\"sk-container\" hidden><div class=\"sk-item\"><div class=\"sk-estimator sk-toggleable\"><input class=\"sk-toggleable__control sk-hidden--visually\" id=\"sk-estimator-id-10\" type=\"checkbox\" checked><label for=\"sk-estimator-id-10\" class=\"sk-toggleable__label sk-toggleable__label-arrow\">DBSCAN</label><div class=\"sk-toggleable__content\"><pre>DBSCAN(eps=1.2)</pre></div></div></div></div></div>"
      ],
      "text/plain": [
       "DBSCAN(eps=1.2)"
      ]
     },
     "execution_count": 328,
     "metadata": {},
     "output_type": "execute_result"
    }
   ],
   "source": [
    "m = DBSCAN(eps=1.2, min_samples=5)\n",
    "m.fit(normalized_df)"
   ]
  },
  {
   "cell_type": "code",
   "execution_count": 329,
   "id": "422d2611",
   "metadata": {},
   "outputs": [],
   "source": [
    "clustersdb = m.labels_"
   ]
  },
  {
   "cell_type": "code",
   "execution_count": 330,
   "id": "0707853c",
   "metadata": {},
   "outputs": [
    {
     "data": {
      "image/png": "[encoded data removed]",
      "text/plain": [
       "<Figure size 432x288 with 1 Axes>"
      ]
     },
     "metadata": {
      "needs_background": "light"
     },
     "output_type": "display_data"
    }
   ],
   "source": [
    "plot_cluster_points(normalized_df, m.labels_)"
   ]
  },
  {
   "cell_type": "code",
   "execution_count": 331,
   "id": "15e62be0",
   "metadata": {},
   "outputs": [],
   "source": [
    "cluster_db2 = df_alterado.copy()\n",
    "cluster_db2['cluster'] = m.labels_"
   ]
  },
  {
   "cell_type": "code",
   "execution_count": 332,
   "id": "ff800ccc",
   "metadata": {},
   "outputs": [
    {
     "data": {
      "text/plain": [
       "0.054295945003967894"
      ]
     },
     "execution_count": 332,
     "metadata": {},
     "output_type": "execute_result"
    }
   ],
   "source": [
    "labels = m.labels_\n",
    "silhouette_score(cluster_db2, labels, metric = 'euclidean')"
   ]
  },
  {
   "cell_type": "code",
   "execution_count": 333,
   "id": "e5f87fdb",
   "metadata": {},
   "outputs": [],
   "source": [
    "cluster_db_ = df2.copy()\n",
    "cluster_db_['cluster'] = m.labels_\n",
    "cluster_db_['country'] = df.iloc[:,0]"
   ]
  },
  {
   "cell_type": "code",
   "execution_count": 334,
   "id": "417777c3",
   "metadata": {
    "scrolled": true
   },
   "outputs": [
    {
     "data": {
      "text/html": [
       "\n",
       "        <iframe\n",
       "            width=\"100%\"\n",
       "            height=\"500\"\n",
       "            src=\"pivottablejs.html\"\n",
       "            frameborder=\"0\"\n",
       "            allowfullscreen\n",
       "            \n",
       "        ></iframe>\n",
       "        "
      ],
      "text/plain": [
       "<IPython.lib.display.IFrame at 0x7fb554d636a0>"
      ]
     },
     "execution_count": 334,
     "metadata": {},
     "output_type": "execute_result"
    }
   ],
   "source": [
    "pivot_ui(cluster_db_)"
   ]
  },
  {
   "cell_type": "code",
   "execution_count": 295,
   "id": "5092e0a0",
   "metadata": {},
   "outputs": [
    {
     "name": "stdout",
     "output_type": "stream",
     "text": [
      "Collecting git+https://github.com/christopherjenness/DBCV.git@master\n",
      "  Cloning https://github.com/christopherjenness/DBCV.git (to revision master) to /private/var/folders/_8/xsxyz9hn3t583bb82cmryz2h0000gn/T/pip-req-build-gdzs1rai\n",
      "  Running command git clone -q https://github.com/christopherjenness/DBCV.git /private/var/folders/_8/xsxyz9hn3t583bb82cmryz2h0000gn/T/pip-req-build-gdzs1rai\n",
      "  Resolved https://github.com/christopherjenness/DBCV.git to commit db7345c45ab7d33ea500778e5c9048fd9f7d3156\n",
      "Requirement already satisfied: numpy in /Users/dalila/Applications/anaconda3/lib/python3.9/site-packages (from DBCV==0.0.0) (1.19.5)\n",
      "Requirement already satisfied: scipy in /Users/dalila/Applications/anaconda3/lib/python3.9/site-packages (from DBCV==0.0.0) (1.7.3)\n"
     ]
    }
   ],
   "source": [
    "!pip install git+https://github.com/christopherjenness/DBCV.git@master\n",
    "\n",
    "from DBCV import DBCV"
   ]
  },
  {
   "cell_type": "code",
   "execution_count": 310,
   "id": "8a3591ca",
   "metadata": {},
   "outputs": [
    {
     "name": "stdout",
     "output_type": "stream",
     "text": [
      "nan\n"
     ]
    }
   ],
   "source": [
    "DBCV_score = DBCV(db_df, labels, dist_function=euclidean)\n",
    "print(DBCV_score)"
   ]
  },
  {
   "cell_type": "code",
   "execution_count": 94,
   "id": "c7e6b9a4",
   "metadata": {},
   "outputs": [
    {
     "name": "stdout",
     "output_type": "stream",
     "text": [
      "Requirement already satisfied: pivottablejs in /Users/dalila/Applications/anaconda3/lib/python3.9/site-packages (0.9.0)\r\n"
     ]
    }
   ],
   "source": [
    "!pip install pivottablejs \n",
    "from pivottablejs import pivot_ui"
   ]
  },
  {
   "cell_type": "code",
   "execution_count": null,
   "id": "1522a9c4",
   "metadata": {},
   "outputs": [],
   "source": []
  }
 ],
 "metadata": {
  "kernelspec": {
   "display_name": "Python 3 (ipykernel)",
   "language": "python",
   "name": "python3"
  },
  "language_info": {
   "codemirror_mode": {
    "name": "ipython",
    "version": 3
   },
   "file_extension": ".py",
   "mimetype": "text/x-python",
   "name": "python",
   "nbconvert_exporter": "python",
   "pygments_lexer": "ipython3",
   "version": "3.9.12"
  }
 },
 "nbformat": 4,
 "nbformat_minor": 5
}
